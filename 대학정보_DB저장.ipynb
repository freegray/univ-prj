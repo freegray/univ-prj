{
 "cells": [
  {
   "cell_type": "markdown",
   "metadata": {},
   "source": [
    "### 변수 및 함수 정의"
   ]
  },
  {
   "cell_type": "code",
   "execution_count": 1,
   "metadata": {},
   "outputs": [],
   "source": [
    "import os\n",
    "import pandas as pd\n",
    "from openpyxl import load_workbook\n",
    "from sqlalchemy import create_engine, Column, Integer, String, Boolean, Enum as SAEnum, ForeignKey\n",
    "from sqlalchemy.orm import declarative_base\n",
    "from sqlalchemy.orm import sessionmaker, relationship\n",
    "\n",
    "from alembic.config import Config\n",
    "from alembic import command\n",
    "\n",
    "import enum"
   ]
  },
  {
   "cell_type": "code",
   "execution_count": 2,
   "metadata": {},
   "outputs": [],
   "source": [
    "# 데이터베이스 연결 정보\n",
    "DB_USER = 'postgres'\n",
    "DB_PASSWORD = '@outworld21'\n",
    "DB_HOST = '34.82.187.56'\n",
    "DB_PORT = '5432'\n",
    "DB_NAME = 'univ_info'\n",
    "\n",
    "DATABASE_URL = f'postgresql://{DB_USER}:{DB_PASSWORD}@{DB_HOST}:{DB_PORT}/{DB_NAME}'\n",
    "\n",
    "# alembic\n",
    "ALEMBIC_CFG_PATH = 'alembic.ini'  # Alembic 설정 파일 경로"
   ]
  },
  {
   "cell_type": "markdown",
   "metadata": {},
   "source": [
    "### 함수 정의"
   ]
  },
  {
   "cell_type": "markdown",
   "metadata": {},
   "source": [
    "##### ORM Base"
   ]
  },
  {
   "cell_type": "code",
   "execution_count": 3,
   "metadata": {},
   "outputs": [],
   "source": [
    "# ---------------------------\n",
    "# ENUM 클래스 정의\n",
    "# ---------------------------\n",
    "def create_enum(name, members):\n",
    "    return enum.Enum(name, {member: member for member in members})\n",
    "\n",
    "SchoolTypeEnum = create_enum(\"SchoolTypeEnum\", [\"전문대학\", \"대학\", \"대학원\", \"대학원대학\"])\n",
    "MainBranchEnum = create_enum(\"MainBranchEnum\", [\"본교\", \"분교\", \"제2캠퍼스\", \"제3캠퍼스\", \"제4캠퍼스\"])\n",
    "RegionEnum = create_enum(\"RegionEnum\", [\"서울\", \"인천\", \"경기\", \"강원\", \"충북\", \"충남\", \"세종\",\n",
    "                                        \"대전\", \"경북\", \"대구\", \"경남\", \"부산\", \"울산\",\n",
    "                                        \"전북\", \"전남\", \"광주\", \"제주\"])\n",
    "EstablishmentTypeEnum = create_enum(\"EstablishmentTypeEnum\", [\"공립\", \"국립\", \"사립\",\n",
    "                                                              \"국립대법인\", \"특별법국립\",\n",
    "                                                              \"특별법법인\", \"기타\"])\n",
    "SchoolStatusEnum = create_enum(\"SchoolStatusEnum\", [\"기존\", \"폐교\", \"신설\"])"
   ]
  },
  {
   "cell_type": "code",
   "execution_count": 4,
   "metadata": {},
   "outputs": [],
   "source": [
    "# ---------------------------\n",
    "# ORM 클래스 정의\n",
    "# ---------------------------\n",
    "Base = declarative_base()\n",
    "\n",
    "class Corporation(Base):\n",
    "    __tablename__ = 'tbl_corporations'\n",
    "\n",
    "    id = Column(Integer, primary_key=True, autoincrement=True, comment='법인 ID')\n",
    "    name = Column(String(100), unique=True, nullable=False, comment='법인명')\n",
    "\n",
    "    # 관계 설정 (back_populates는 UniversityInfo의 'corporation'과 일치해야 함)\n",
    "    universities = relationship(\"UniversityInfo\", back_populates=\"corporation\")\n",
    "\n",
    "    def __repr__(self):\n",
    "        return f\"<Corporation(id={self.id}, name='{self.name}')>\"\n",
    "\n",
    "class UniversityInfo(Base):\n",
    "    __tablename__ = 'tbl_university_info'\n",
    "    id = Column(Integer, primary_key=True, autoincrement=True, comment='학교ID')\n",
    "    u_code = Column(Integer, unique=True, nullable=False, comment='학교코드')\n",
    "    u_type = Column(SAEnum(SchoolTypeEnum, name='school_type_enum'), nullable=False, comment='학교구분')\n",
    "    u_name = Column(String(100), nullable=False, comment='학교명')\n",
    "    main_branch = Column(SAEnum(MainBranchEnum, name='main_branch_enum'), nullable=False, comment='본분교')\n",
    "    academic_system = Column(String(100), comment='학제')\n",
    "    is_remote = Column(Boolean, nullable=False, default=False, comment='원격대학')\n",
    "    region = Column(SAEnum(RegionEnum, name='region_enum'), nullable=False, comment='지역')\n",
    "    establishment_type = Column(SAEnum(EstablishmentTypeEnum, name='establishment_type_enum'), nullable=False, comment='설립구분')\n",
    "    related_laws = Column(String(100), comment='관계법령')\n",
    "    corporation_id = Column(Integer, ForeignKey('tbl_corporations.id'), nullable=True, comment='법인 ID')\n",
    "    u_status = Column(SAEnum(SchoolStatusEnum, name='school_status_enum'), nullable=False, comment='학교상태')\n",
    "\n",
    "    # 관계 설정 (back_populates는 Corporation의 'universities'와 일치해야 함)\n",
    "    corporation = relationship(\"Corporation\", back_populates=\"universities\")   \n",
    "\n",
    "    def __repr__(self):\n",
    "        return f\"<UniversityInfo(id={self.u_id}, u_code='{self.u_code}', u_name='{self.u_name}')>\""
   ]
  },
  {
   "cell_type": "markdown",
   "metadata": {},
   "source": [
    "##### alemic migration "
   ]
  },
  {
   "cell_type": "code",
   "execution_count": 5,
   "metadata": {},
   "outputs": [],
   "source": [
    "# ---------------------------\n",
    "# Alembic 마이그레이션 함수\n",
    "# ---------------------------\n",
    "def run_alembic_migrations(alembic_cfg_path):\n",
    "    \"\"\"\n",
    "    Alembic 마이그레이션을 실행하는 함수.\n",
    "    \"\"\"\n",
    "    alembic_cfg = Config(alembic_cfg_path)\n",
    "    command.upgrade(alembic_cfg, \"head\")"
   ]
  },
  {
   "cell_type": "markdown",
   "metadata": {},
   "source": [
    "##### Excel data Reading"
   ]
  },
  {
   "cell_type": "code",
   "execution_count": 6,
   "metadata": {},
   "outputs": [],
   "source": [
    "# # 엑셀 파일 읽기\n",
    "# df = pd.read_excel(excel_file_path, engine='openpyxl')\n",
    "    \n",
    "def read_excel_to_dataframe(excel_file_path, sheet_name=None):\n",
    "    # openpyxl을 사용하여 엑셀 파일 로드\n",
    "    wb = load_workbook(excel_file_path, data_only=True)\n",
    "    \n",
    "    # 특정 시트를 선택하거나 활성 시트 선택\n",
    "    if sheet_name:\n",
    "        sheet = wb[sheet_name]\n",
    "    else:\n",
    "        sheet = wb.active\n",
    "    \n",
    "    # 시트의 모든 데이터 읽기\n",
    "    data = sheet.values\n",
    "    \n",
    "    # 첫 번째 행을 헤더로 사용\n",
    "    columns = next(data)\n",
    "    \n",
    "    # 나머지 데이터를 리스트로 변환\n",
    "    data = list(data)\n",
    "    \n",
    "    # pandas DataFrame으로 변환\n",
    "    df = pd.DataFrame(data, columns=columns)\n",
    "    \n",
    "    return df"
   ]
  },
  {
   "cell_type": "markdown",
   "metadata": {},
   "source": [
    "##### Data Upload"
   ]
  },
  {
   "cell_type": "code",
   "execution_count": 7,
   "metadata": {},
   "outputs": [],
   "source": [
    "# ---------------------------\n",
    "# 데이터 업로드 함수\n",
    "# ---------------------------\n",
    "def upload_data(session, df):\n",
    "    \"\"\"\n",
    "    df를 tbl_university_info 테이블에 데이터를 업로드하는 함수.\n",
    "    \"\"\"\n",
    "    # 데이터 삽입\n",
    "    for index, row in df.iterrows():\n",
    "        try:\n",
    "            # 법인명 처리: 먼저 Corporation 테이블에 존재하는지 확인\n",
    "            corporation_name = row.get('법인명')\n",
    "            corporation = None\n",
    "            if corporation_name:\n",
    "                corporation = session.query(Corporation).filter_by(name=corporation_name).first()\n",
    "                if not corporation:\n",
    "                    # 새 법인 추가\n",
    "                    corporation = Corporation(name=corporation_name)\n",
    "                    session.add(corporation)\n",
    "                    session.commit()  # 법인 ID를 얻기 위해 커밋\n",
    "\n",
    "            # UniversityInfo 인스턴스 생성\n",
    "            university = UniversityInfo(\n",
    "                u_type=SchoolTypeEnum(row['학교구분']),\n",
    "                u_code=row['학교코드'],\n",
    "                u_name=row['학교명'],\n",
    "                main_branch=MainBranchEnum(row['본분교']),\n",
    "                academic_system=row.get('학제'),\n",
    "                is_remote=row.get('원격대학', False),\n",
    "                region=RegionEnum(row['지역']),\n",
    "                establishment_type=EstablishmentTypeEnum(row['설립구분']),\n",
    "                related_laws=row.get('관계법령'),\n",
    "                corporation_id=corporation.id if corporation else None,\n",
    "                u_status=SchoolStatusEnum(row['학교상태'])\n",
    "            )\n",
    "            session.add(university)\n",
    "\n",
    "            # 큰 데이터셋일 경우 일정량씩 커밋\n",
    "            if index % 100 == 0:\n",
    "                session.commit()\n",
    "                print(f\"{index} rows inserted.\")\n",
    "        except Exception as e:\n",
    "            session.rollback()\n",
    "            print(f\"Error inserting row {index}: {e}\")\n",
    "\n",
    "    # 최종 커밋\n",
    "    session.commit()\n",
    "    print(\"데이터 삽입 완료.\")"
   ]
  },
  {
   "cell_type": "markdown",
   "metadata": {},
   "source": [
    "### Main"
   ]
  },
  {
   "cell_type": "code",
   "execution_count": 8,
   "metadata": {},
   "outputs": [],
   "source": [
    "##### data Reading\n",
    "\n",
    "# 엑셀 파일이 저장된 경로 (엑셀_데이터 폴더)\n",
    "excel_folder = 'information/'\n",
    "excel_file_path = excel_folder + '학교개황(20240305기준).xlsx'\n",
    "# 특정 시트가 있으면 sheet_name에 시트 이름을 넣고, 없으면 None\n",
    "df = read_excel_to_dataframe(excel_file_path, sheet_name=None)\n",
    "\n",
    "df = df[['학교구분', '학교코드', '학교명', '본분교', '학제', '원격대학', '지역', '설립구분', '관련법령', '법인명','학교상태']]\n",
    "# df.dtypes"
   ]
  },
  {
   "cell_type": "code",
   "execution_count": 9,
   "metadata": {},
   "outputs": [],
   "source": [
    "# SQLAlchemy 엔진 생성 (로컬 터널 포트 사용)\n",
    "engine = create_engine(DATABASE_URL)\n",
    "\n",
    "# 세션 생성\n",
    "SessionLocal = sessionmaker(bind=engine)\n",
    "session = SessionLocal()"
   ]
  },
  {
   "cell_type": "code",
   "execution_count": 11,
   "metadata": {},
   "outputs": [
    {
     "name": "stdout",
     "output_type": "stream",
     "text": [
      "세션이 종료되었습니다.\n"
     ]
    },
    {
     "ename": "ModuleNotFoundError",
     "evalue": "No module named '대학정보_DB저장'",
     "output_type": "error",
     "traceback": [
      "\u001b[0;31m---------------------------------------------------------------------------\u001b[0m",
      "\u001b[0;31mModuleNotFoundError\u001b[0m                       Traceback (most recent call last)",
      "Cell \u001b[0;32mIn[11], line 3\u001b[0m\n\u001b[1;32m      1\u001b[0m \u001b[38;5;28;01mtry\u001b[39;00m:\n\u001b[1;32m      2\u001b[0m     \u001b[38;5;66;03m# Alembic 마이그레이션 실행\u001b[39;00m\n\u001b[0;32m----> 3\u001b[0m     \u001b[43mrun_alembic_migrations\u001b[49m\u001b[43m(\u001b[49m\u001b[43mALEMBIC_CFG_PATH\u001b[49m\u001b[43m)\u001b[49m\n\u001b[1;32m      4\u001b[0m     \u001b[38;5;28mprint\u001b[39m(\u001b[38;5;124m\"\u001b[39m\u001b[38;5;124mAlembic 마이그레이션이 완료되었습니다.\u001b[39m\u001b[38;5;124m\"\u001b[39m)\n\u001b[1;32m      6\u001b[0m     \u001b[38;5;66;03m# 데이터 업로드\u001b[39;00m\n",
      "Cell \u001b[0;32mIn[5], line 9\u001b[0m, in \u001b[0;36mrun_alembic_migrations\u001b[0;34m(alembic_cfg_path)\u001b[0m\n\u001b[1;32m      5\u001b[0m \u001b[38;5;250m\u001b[39m\u001b[38;5;124;03m\"\"\"\u001b[39;00m\n\u001b[1;32m      6\u001b[0m \u001b[38;5;124;03mAlembic 마이그레이션을 실행하는 함수.\u001b[39;00m\n\u001b[1;32m      7\u001b[0m \u001b[38;5;124;03m\"\"\"\u001b[39;00m\n\u001b[1;32m      8\u001b[0m alembic_cfg \u001b[38;5;241m=\u001b[39m Config(alembic_cfg_path)\n\u001b[0;32m----> 9\u001b[0m \u001b[43mcommand\u001b[49m\u001b[38;5;241;43m.\u001b[39;49m\u001b[43mupgrade\u001b[49m\u001b[43m(\u001b[49m\u001b[43malembic_cfg\u001b[49m\u001b[43m,\u001b[49m\u001b[43m \u001b[49m\u001b[38;5;124;43m\"\u001b[39;49m\u001b[38;5;124;43mhead\u001b[39;49m\u001b[38;5;124;43m\"\u001b[39;49m\u001b[43m)\u001b[49m\n",
      "File \u001b[0;32m~/venvs/defenv/lib/python3.12/site-packages/alembic/command.py:406\u001b[0m, in \u001b[0;36mupgrade\u001b[0;34m(config, revision, sql, tag)\u001b[0m\n\u001b[1;32m    395\u001b[0m     \u001b[38;5;28;01mreturn\u001b[39;00m script\u001b[38;5;241m.\u001b[39m_upgrade_revs(revision, rev)\n\u001b[1;32m    397\u001b[0m \u001b[38;5;28;01mwith\u001b[39;00m EnvironmentContext(\n\u001b[1;32m    398\u001b[0m     config,\n\u001b[1;32m    399\u001b[0m     script,\n\u001b[0;32m   (...)\u001b[0m\n\u001b[1;32m    404\u001b[0m     tag\u001b[38;5;241m=\u001b[39mtag,\n\u001b[1;32m    405\u001b[0m ):\n\u001b[0;32m--> 406\u001b[0m     \u001b[43mscript\u001b[49m\u001b[38;5;241;43m.\u001b[39;49m\u001b[43mrun_env\u001b[49m\u001b[43m(\u001b[49m\u001b[43m)\u001b[49m\n",
      "File \u001b[0;32m~/venvs/defenv/lib/python3.12/site-packages/alembic/script/base.py:582\u001b[0m, in \u001b[0;36mScriptDirectory.run_env\u001b[0;34m(self)\u001b[0m\n\u001b[1;32m    573\u001b[0m \u001b[38;5;28;01mdef\u001b[39;00m \u001b[38;5;21mrun_env\u001b[39m(\u001b[38;5;28mself\u001b[39m) \u001b[38;5;241m-\u001b[39m\u001b[38;5;241m>\u001b[39m \u001b[38;5;28;01mNone\u001b[39;00m:\n\u001b[1;32m    574\u001b[0m \u001b[38;5;250m    \u001b[39m\u001b[38;5;124;03m\"\"\"Run the script environment.\u001b[39;00m\n\u001b[1;32m    575\u001b[0m \n\u001b[1;32m    576\u001b[0m \u001b[38;5;124;03m    This basically runs the ``env.py`` script present\u001b[39;00m\n\u001b[0;32m   (...)\u001b[0m\n\u001b[1;32m    580\u001b[0m \n\u001b[1;32m    581\u001b[0m \u001b[38;5;124;03m    \"\"\"\u001b[39;00m\n\u001b[0;32m--> 582\u001b[0m     \u001b[43mutil\u001b[49m\u001b[38;5;241;43m.\u001b[39;49m\u001b[43mload_python_file\u001b[49m\u001b[43m(\u001b[49m\u001b[38;5;28;43mself\u001b[39;49m\u001b[38;5;241;43m.\u001b[39;49m\u001b[43mdir\u001b[49m\u001b[43m,\u001b[49m\u001b[43m \u001b[49m\u001b[38;5;124;43m\"\u001b[39;49m\u001b[38;5;124;43menv.py\u001b[39;49m\u001b[38;5;124;43m\"\u001b[39;49m\u001b[43m)\u001b[49m\n",
      "File \u001b[0;32m~/venvs/defenv/lib/python3.12/site-packages/alembic/util/pyfiles.py:95\u001b[0m, in \u001b[0;36mload_python_file\u001b[0;34m(dir_, filename)\u001b[0m\n\u001b[1;32m     93\u001b[0m \u001b[38;5;28;01mif\u001b[39;00m ext \u001b[38;5;241m==\u001b[39m \u001b[38;5;124m\"\u001b[39m\u001b[38;5;124m.py\u001b[39m\u001b[38;5;124m\"\u001b[39m:\n\u001b[1;32m     94\u001b[0m     \u001b[38;5;28;01mif\u001b[39;00m os\u001b[38;5;241m.\u001b[39mpath\u001b[38;5;241m.\u001b[39mexists(path):\n\u001b[0;32m---> 95\u001b[0m         module \u001b[38;5;241m=\u001b[39m \u001b[43mload_module_py\u001b[49m\u001b[43m(\u001b[49m\u001b[43mmodule_id\u001b[49m\u001b[43m,\u001b[49m\u001b[43m \u001b[49m\u001b[43mpath\u001b[49m\u001b[43m)\u001b[49m\n\u001b[1;32m     96\u001b[0m     \u001b[38;5;28;01melse\u001b[39;00m:\n\u001b[1;32m     97\u001b[0m         pyc_path \u001b[38;5;241m=\u001b[39m pyc_file_from_path(path)\n",
      "File \u001b[0;32m~/venvs/defenv/lib/python3.12/site-packages/alembic/util/pyfiles.py:113\u001b[0m, in \u001b[0;36mload_module_py\u001b[0;34m(module_id, path)\u001b[0m\n\u001b[1;32m    111\u001b[0m \u001b[38;5;28;01massert\u001b[39;00m spec\n\u001b[1;32m    112\u001b[0m module \u001b[38;5;241m=\u001b[39m importlib\u001b[38;5;241m.\u001b[39mutil\u001b[38;5;241m.\u001b[39mmodule_from_spec(spec)\n\u001b[0;32m--> 113\u001b[0m \u001b[43mspec\u001b[49m\u001b[38;5;241;43m.\u001b[39;49m\u001b[43mloader\u001b[49m\u001b[38;5;241;43m.\u001b[39;49m\u001b[43mexec_module\u001b[49m\u001b[43m(\u001b[49m\u001b[43mmodule\u001b[49m\u001b[43m)\u001b[49m  \u001b[38;5;66;03m# type: ignore\u001b[39;00m\n\u001b[1;32m    114\u001b[0m \u001b[38;5;28;01mreturn\u001b[39;00m module\n",
      "File \u001b[0;32m<frozen importlib._bootstrap_external>:995\u001b[0m, in \u001b[0;36mexec_module\u001b[0;34m(self, module)\u001b[0m\n",
      "File \u001b[0;32m<frozen importlib._bootstrap>:488\u001b[0m, in \u001b[0;36m_call_with_frames_removed\u001b[0;34m(f, *args, **kwds)\u001b[0m\n",
      "File \u001b[0;32m~/univ_prj/alembic/env.py:30\u001b[0m\n\u001b[1;32m     26\u001b[0m \u001b[38;5;28;01mimport\u001b[39;00m \u001b[38;5;21;01mos\u001b[39;00m\n\u001b[1;32m     28\u001b[0m sys\u001b[38;5;241m.\u001b[39mpath\u001b[38;5;241m.\u001b[39mappend(os\u001b[38;5;241m.\u001b[39mpath\u001b[38;5;241m.\u001b[39mabspath(os\u001b[38;5;241m.\u001b[39mpath\u001b[38;5;241m.\u001b[39mjoin(os\u001b[38;5;241m.\u001b[39mpath\u001b[38;5;241m.\u001b[39mdirname(\u001b[38;5;18m__file__\u001b[39m), \u001b[38;5;124m'\u001b[39m\u001b[38;5;124m..\u001b[39m\u001b[38;5;124m'\u001b[39m)))\n\u001b[0;32m---> 30\u001b[0m \u001b[38;5;28;01mfrom\u001b[39;00m \u001b[38;5;21;01m대학정보_DB저장\u001b[39;00m \u001b[38;5;28;01mimport\u001b[39;00m Base  \u001b[38;5;66;03m# ORM 클래스가 정의된 파일을 임포트\u001b[39;00m\n\u001b[1;32m     32\u001b[0m \u001b[38;5;28;01mfrom\u001b[39;00m \u001b[38;5;21;01mlogging\u001b[39;00m\u001b[38;5;21;01m.\u001b[39;00m\u001b[38;5;21;01mconfig\u001b[39;00m \u001b[38;5;28;01mimport\u001b[39;00m fileConfig\n\u001b[1;32m     33\u001b[0m \u001b[38;5;66;03m# 로깅 설정\u001b[39;00m\n",
      "\u001b[0;31mModuleNotFoundError\u001b[0m: No module named '대학정보_DB저장'"
     ]
    }
   ],
   "source": [
    "try:\n",
    "    # Alembic 마이그레이션 실행\n",
    "    run_alembic_migrations(ALEMBIC_CFG_PATH)\n",
    "    print(\"Alembic 마이그레이션이 완료되었습니다.\")\n",
    "\n",
    "    # 데이터 업로드\n",
    "    upload_data(session, df)\n",
    "finally:\n",
    "    # 세션 종료\n",
    "    session.close()\n",
    "    print(\"세션이 종료되었습니다.\")"
   ]
  }
 ],
 "metadata": {
  "kernelspec": {
   "display_name": "defenv",
   "language": "python",
   "name": "python3"
  },
  "language_info": {
   "codemirror_mode": {
    "name": "ipython",
    "version": 3
   },
   "file_extension": ".py",
   "mimetype": "text/x-python",
   "name": "python",
   "nbconvert_exporter": "python",
   "pygments_lexer": "ipython3",
   "version": "3.12.3"
  }
 },
 "nbformat": 4,
 "nbformat_minor": 2
}
